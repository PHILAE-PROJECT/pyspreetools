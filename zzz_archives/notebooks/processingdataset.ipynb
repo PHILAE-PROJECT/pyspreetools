{
 "cells": [
  {
   "cell_type": "code",
   "execution_count": 17,
   "id": "57ef3a65",
   "metadata": {},
   "outputs": [],
   "source": [
    "import json\n",
    "\n",
    "data = {}\n",
    "with open('data/spree5000.json') as f:\n",
    "    i=-1\n",
    "    for line in f:\n",
    "        i+=1\n",
    "        if i==0:\n",
    "            continue\n",
    "        \n",
    "        step=json.loads(line)\n",
    "#         print(step.keys())\n",
    "#         print(step['url'],step['status_code'],step['session_id'])\n",
    "#         del step['responses']\n",
    "        step['timestamp']=i\n",
    "        data[i]=step\n",
    "        if i%1000==0:\n",
    "            print(i)\n",
    "        if i>400:\n",
    "            break\n",
    "with open('./data/spree400_w_responses.json', 'w') as fp:\n",
    "    json.dump(data, fp)"
   ]
  },
  {
   "cell_type": "code",
   "execution_count": null,
   "id": "c533651d",
   "metadata": {},
   "outputs": [],
   "source": []
  },
  {
   "cell_type": "code",
   "execution_count": null,
   "id": "6bc70509",
   "metadata": {},
   "outputs": [],
   "source": []
  }
 ],
 "metadata": {
  "kernelspec": {
   "display_name": "Python 3 (ipykernel)",
   "language": "python",
   "name": "python3"
  },
  "language_info": {
   "codemirror_mode": {
    "name": "ipython",
    "version": 3
   },
   "file_extension": ".py",
   "mimetype": "text/x-python",
   "name": "python",
   "nbconvert_exporter": "python",
   "pygments_lexer": "ipython3",
   "version": "3.9.11"
  }
 },
 "nbformat": 4,
 "nbformat_minor": 5
}
